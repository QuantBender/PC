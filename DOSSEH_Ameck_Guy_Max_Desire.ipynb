{
 "cells": [
  {
   "cell_type": "markdown",
   "metadata": {},
   "source": [
    "# Exercise 3 Calculer la trace d’une matrice ( 6 pts )\n",
    "\n",
    "On considère une matrice carrée réelle A, de taille nxn. On souhaite calculer, en parallèle et en utilisant MPI, la trace de la matrice A, avec Trace(A) = $\\sum_{i=1}^{n}a_{ii}$.\n",
    "Ecrivez un programme MPI qui effectue les tâches suivantes :\n",
    "\n",
    "    a) le processus de rang 0 initialise la matrice A et la distribue sur p processus. Le code doit donner le même résultat quelque soit le nombre de processus.\n",
    "    b) chaque processus calcule la trace locale correspondant à sa portion de la matrice A.\n",
    "    c) le processus de rang 0 récupère toutes les traces locales pour calculer la trace globale de la matrice."
   ]
  },
  {
   "cell_type": "code",
   "execution_count": 41,
   "metadata": {},
   "outputs": [
    {
     "name": "stdout",
     "output_type": "stream",
     "text": [
      "Overwriting quiz_exercise3.py\n"
     ]
    }
   ],
   "source": [
    "%%writefile quiz_exercise3.py\n",
    "\n",
    "# Import the necessary libraries\n",
    "import numpy as np\n",
    "import random\n",
    "from mpi4py import MPI\n",
    "\n",
    "seed = 10\n",
    "random.seed(seed)\n",
    "np.random.seed(seed)\n",
    "\n",
    "# Initialize the MPI communication\n",
    "COMM = MPI.COMM_WORLD\n",
    "SIZE = COMM.Get_size()\n",
    "RANK = COMM.Get_rank()\n",
    "\n",
    "# matrix size\n",
    "matrix_size = 4\n",
    "\n",
    "# local matrix size\n",
    "local_matrix_size = matrix_size // SIZE if RANK != SIZE - 1 else matrix_size // SIZE + matrix_size % SIZE\n",
    "\n",
    "\n",
    "#initialize matrix A in rank 0\n",
    "if RANK == 0:\n",
    "    A = np.array([np.random.randint(0,1000) for _ in range(matrix_size*matrix_size)]).reshape(matrix_size, matrix_size).astype(np.int64)\n",
    "    A_diagonal = np.diagonal(A, offset=0).astype(np.int64)\n",
    "else:\n",
    "    A_diagonal = None\n",
    "\n",
    "local_A_diagonal = np.empty((local_matrix_size, 1), dtype=np.int64)\n",
    "    \n",
    "# Scatter the diagonal\n",
    "COMM.Scatter(A_diagonal, [local_A_diagonal, local_matrix_size], root=0)\n",
    "\n",
    "# Compute the sum of the diagonal\n",
    "local_sum = np.sum(local_A_diagonal)\n",
    "\n",
    "# Reduce the sum of the diagonal\n",
    "global_sum = COMM.reduce(local_sum, op=MPI.SUM, root=0)\n",
    "\n",
    "# Print the result in rank 0\n",
    "if RANK == 0:\n",
    "    print(f\"Matrix A:\\n{A}\")\n",
    "    print(f\"Sum of the diagonal: {global_sum}\")\n",
    "    \n",
    "\n"
   ]
  },
  {
   "cell_type": "code",
   "execution_count": 42,
   "metadata": {},
   "outputs": [
    {
     "name": "stdout",
     "output_type": "stream",
     "text": [
      "Matrix A:\n",
      "[[265 125 996 527]\n",
      " [320 369 123 156]\n",
      " [985 733 496 925]\n",
      " [881   8  73 256]]\n",
      "Sum of the diagonal: 1386\n"
     ]
    }
   ],
   "source": [
    "!mpirun -n 1 python quiz_exercise3.py"
   ]
  },
  {
   "cell_type": "code",
   "execution_count": 43,
   "metadata": {},
   "outputs": [
    {
     "name": "stdout",
     "output_type": "stream",
     "text": [
      "Matrix A:\n",
      "[[265 125 996 527]\n",
      " [320 369 123 156]\n",
      " [985 733 496 925]\n",
      " [881   8  73 256]]\n",
      "Sum of the diagonal: 1386\n"
     ]
    }
   ],
   "source": [
    "!mpirun -n 2 python quiz_exercise3.py"
   ]
  },
  {
   "cell_type": "code",
   "execution_count": 45,
   "metadata": {},
   "outputs": [
    {
     "name": "stdout",
     "output_type": "stream",
     "text": [
      "Matrix A:\n",
      "[[265 125 996 527]\n",
      " [320 369 123 156]\n",
      " [985 733 496 925]\n",
      " [881   8  73 256]]\n",
      "Sum of the diagonal: 1386\n"
     ]
    }
   ],
   "source": [
    "!mpirun -n 4 python quiz_exercise3.py"
   ]
  },
  {
   "cell_type": "markdown",
   "metadata": {},
   "source": [
    "# Exercise 4 Equation de diffusion 2D ( 6 points )\n",
    "\n",
    "$$\n",
    "\\frac{\\partial u}{\\partial t} = \\nu\\frac{\\partial^2 u}{\\partial x^2} + \\nu\\frac{\\partial^2 u}{\\partial y^2}\n",
    "$$\n",
    "\n",
    "On utilisera un schéma de différence fini pour discrétiser l’équation.\n",
    "\n",
    "$$\n",
    "\\frac{u_{i, j}^{n+1}-u_{i, j}^{n}}{\\Delta t}=\\nu \\frac{u_{i+1, j}^{n}-2u_{i, j}^{n}+u_{i-1, j}^{n}}{\\Delta x^2} + \\nu \\frac{u_{i, j+1}^{n}-2u_{i, j}^{n}+u_{i, j-1}^{n}}{\\Delta y^2}\n",
    "$$\n",
    "\n",
    "Nous réorganisons à nouveau l’équation discrétisée et résolvons pour $u_{i, j}^{n+1}$:\n",
    "\n",
    "$$\n",
    "\\begin{aligned}\n",
    "u_{i, j}^{n+1} = u_{i, j}^{1} & + \\frac{\\nu \\Delta t}{\\Delta x^2}(u_{i+1, j}^{n}-2u_{i, j}^{n}+u_{i-1, j}^{n})\\\\\n",
    "                              & + \\frac{\\nu \\Delta t}{\\Delta y^2}(u_{i, j+1}^{n}-2u_{i, j}^{n}+u_{i, j-1}^{n})\\\\\n",
    "\\end{aligned}\n",
    "$$"
   ]
  },
  {
   "cell_type": "code",
   "execution_count": 61,
   "metadata": {},
   "outputs": [
    {
     "name": "stdout",
     "output_type": "stream",
     "text": [
      "Overwriting quiz_exercise4.py\n"
     ]
    }
   ],
   "source": [
    "%%writefile quiz_exercise4.py\n",
    "\n",
    "import numpy as np\n",
    "from matplotlib import pyplot, cm\n",
    "from mpl_toolkits.mplot3d import Axes3D\n",
    "\n",
    "import time, random\n",
    "\n",
    "from mpi4py import MPI\n",
    "\n",
    "\n",
    "# initialize MPI\n",
    "comm = MPI.COMM_WORLD\n",
    "rank = comm.Get_rank()\n",
    "size = comm.Get_size()\n",
    "\n",
    "seed = 10\n",
    "np.random.seed(seed)\n",
    "random.seed(seed)\n",
    "\n",
    "\n",
    "def solve_2d_diff(u, un, nt, dt, dx, dy, nu):\n",
    "    row, col =u.shape\n",
    "\n",
    "    ###Assign initial conditions\n",
    "    # set hat function I.C. : u(.5<=x<=1 && .5<=y<=1 ) is 2\n",
    "    u[int(.5 / dy):int(1 / dy +1),int(.5 / dx):int(1 / dx +1)] =2\n",
    "    #fill the update of u\n",
    "    for n in range(nt + 1):\n",
    "        un = u.copy()\n",
    "        row, col = u.shape\n",
    "        for i in range(1, row):\n",
    "            for j in range(1, col):\n",
    "                u[i, j] = (un[i, j] + nu * dt / dx**2 * (un[i + 1, j] - 2 * un[i, j]\\\n",
    "                    + un[i - 1, j]) + nu * dt / dy**2 * (un[i, j + 1] - 2 * un[i, j]\\\n",
    "                        + un[i, j - 1]))             \n",
    "\n",
    "        # c) effectuer les communications non bloquantes nécessaires pour échanger les valeurs manquantes\n",
    "        # create the requests for the non-blocking communication\n",
    "        reqs = []\n",
    "        # send upwards\n",
    "        req = comm.Isend(local_u[-2, :], dest=north)\n",
    "        reqs.append(req)\n",
    "        # send downwards\n",
    "        req = comm.Isend(local_u[1, :], dest=south)\n",
    "        reqs.append(req)\n",
    "        # send to the left\n",
    "        req = comm.Isend(local_u[:, -2], dest=east)\n",
    "        reqs.append(req)\n",
    "        # send to the right\n",
    "        req = comm.Isend(local_u[:, 1], dest=west)\n",
    "        reqs.append(req)\n",
    "        # receive from upwards\n",
    "        req = comm.Irecv(local_u[0, :], source=north)\n",
    "        reqs.append(req)\n",
    "        # receive from downwards\n",
    "        req = comm.Irecv(local_u[-1, :], source=south)\n",
    "        reqs.append(req)\n",
    "        # receive from the left\n",
    "        req = comm.Irecv(local_u[:, 0], source=east)\n",
    "        reqs.append(req)\n",
    "        # receive from the right\n",
    "        req = comm.Irecv(local_u[:, -1], source=west)\n",
    "        reqs.append(req)\n",
    "        # wait for all the non-blocking communication to finish\n",
    "        MPI.Request.waitall(reqs)\n",
    "    return 0\n",
    "\n",
    "###variable declarations\n",
    "nt = 51\n",
    "nx = 101\n",
    "ny = 101\n",
    "nu = .05\n",
    "dx = 2 / (nx -1)\n",
    "dy = 2 / (ny -1)\n",
    "sigma = .25\n",
    "dt = sigma * dx * dy / nu\n",
    "\n",
    "x = np.linspace(0, 2, nx)\n",
    "y = np.linspace(0, 2, ny)\n",
    "\n",
    "u = np.ones((ny, nx)) # create a 1xn vector of 1's\n",
    "un = np.ones((ny, nx))\n",
    "\n",
    "\n",
    "# a) diviser le domaine en p parties, chacune gérée par un processus différent  avec Create_cart\n",
    "# b) chaque processus calcul la condition initiale dans son sous domaine\n",
    "# c) effectuer les communications non bloquantes nécessaires pour échanger les valeurs manquantes \n",
    "# d) le processus de rang 0 récupère toutes les résultats locaux pour afficher la solution globale.\n",
    "# e) vérifier que le résultat est le même quelque soit le nombre de processus.\n",
    "\n",
    "# a) diviser le domaine en p parties, chacune gérée par un processus différent avec Create_cart\n",
    "cart2d = comm.Create_cart([size//2, size//2], periods=(False, False), reorder=False)\n",
    "\n",
    "# b) chaque processus calcul la condition initiale dans son sous domaine\n",
    "# determine the coordinates of the process in the cartesian grid\n",
    "coords = cart2d.Get_coords(rank)\n",
    "# determine the neighbors\n",
    "north, south = cart2d.Shift(0, 1)\n",
    "east, west = cart2d.Shift(1, 1)\n",
    "# determine the size of the subdomain + offset\n",
    "local_nx = nx // size + 2\n",
    "local_ny = ny // size + 2\n",
    "# determine the starting and ending indices of the subdomain\n",
    "startx = coords[0] * local_nx + 1\n",
    "endx = startx + local_nx - 1\n",
    "starty = coords[1] * local_ny + 1\n",
    "endy = starty + local_ny - 1\n",
    "# create the local arrays\n",
    "local_u = np.ones((local_ny, local_nx))\n",
    "local_un = np.ones((local_ny, local_nx))\n",
    "# set the initial conditions\n",
    "local_u[int(.5 / dy):int(1 / dy + 1), int(.5 / dx):int(1 / dx + 1)] = 2.0\n",
    "\n",
    "# solve_2d_diff(u, un, nt, dt, dx, dy, nu) locally\n",
    "solve_2d_diff(local_u, local_un, nt, dt, dx, dy, nu)\n",
    "\n",
    "# d) le processus de rang 0 récupère toutes les résultats locaux pour afficher la solution globale.\n",
    "# create an array to store the solution\n",
    "u = None\n",
    "if rank == 0:\n",
    "    u = np.empty((ny, nx))\n",
    "# gather all the local arrays to the global array u\n",
    "comm.Gather(local_u, u, root=0)\n",
    "\n",
    "\n",
    "\n",
    "fig = pyplot.figure(figsize=(7, 5), dpi=100)\n",
    "ax = fig.gca(projection='3d')\n",
    "X, Y = np.meshgrid(x, y)\n",
    "surf = ax.plot_surface(X, Y, u, cmap=cm.viridis)"
   ]
  },
  {
   "cell_type": "code",
   "execution_count": 62,
   "metadata": {},
   "outputs": [
    {
     "name": "stdout",
     "output_type": "stream",
     "text": [
      "Traceback (most recent call last):\n",
      "  File \"/home/capitaindata/QFM/PC/quiz_exercise4.py\", line 115, in <module>\n",
      "Traceback (most recent call last):\n",
      "  File \"/home/capitaindata/QFM/PC/quiz_exercise4.py\", line 115, in <module>\n",
      "Traceback (most recent call last):\n",
      "  File \"/home/capitaindata/QFM/PC/quiz_exercise4.py\", line 115, in <module>\n",
      "Traceback (most recent call last):\n",
      "  File \"/home/capitaindata/QFM/PC/quiz_exercise4.py\", line 115, in <module>\n",
      "    solve_2d_diff(local_u, local_un, nt, dt, dx, dy, nu)\n",
      "    solve_2d_diff(local_u, local_un, nt, dt, dx, dy, nu)\n",
      "    solve_2d_diff(local_u, local_un, nt, dt, dx, dy, nu)\n",
      "  File \"/home/capitaindata/QFM/PC/quiz_exercise4.py\", line 34, in solve_2d_diff\n",
      "  File \"/home/capitaindata/QFM/PC/quiz_exercise4.py\", line 34, in solve_2d_diff\n",
      "    + un[i - 1, j]) + nu * dt / dy**2 * (un[i, j + 1] - 2 * un[i, j]\\\n",
      "  File \"/home/capitaindata/QFM/PC/quiz_exercise4.py\", line 34, in solve_2d_diff\n",
      "    + un[i - 1, j]) + nu * dt / dy**2 * (un[i, j + 1] - 2 * un[i, j]\\\n",
      "    + un[i - 1, j]) + nu * dt / dy**2 * (un[i, j + 1] - 2 * un[i, j]\\\n",
      "                                                                                            ~                 ~~              ~^^^^^^^^^^\n",
      "solve_2d_diff(local_u, local_un, nt, dt, dx, dy, nu)\n",
      "^^^^^^^^^^\n",
      "IndexError    ~~^^^^^^^^^^IndexError: index 27 is out of bounds for axis 1 with size 27\n",
      ": index 27 is out of bounds for axis 1 with size 27\n",
      "\n",
      "IndexError: index 27 is out of bounds for axis 1 with size 27\n",
      "  File \"/home/capitaindata/QFM/PC/quiz_exercise4.py\", line 34, in solve_2d_diff\n",
      "    + un[i - 1, j]) + nu * dt / dy**2 * (un[i, j + 1] - 2 * un[i, j]\\\n",
      "                                         ~~^^^^^^^^^^\n",
      "IndexError: index 27 is out of bounds for axis 1 with size 27\n"
     ]
    }
   ],
   "source": [
    "!mpirun -n 4 python quiz_exercise4.py"
   ]
  },
  {
   "cell_type": "code",
   "execution_count": null,
   "metadata": {},
   "outputs": [],
   "source": []
  }
 ],
 "metadata": {
  "kernelspec": {
   "display_name": "mpi_env",
   "language": "python",
   "name": "python3"
  },
  "language_info": {
   "codemirror_mode": {
    "name": "ipython",
    "version": 3
   },
   "file_extension": ".py",
   "mimetype": "text/x-python",
   "name": "python",
   "nbconvert_exporter": "python",
   "pygments_lexer": "ipython3",
   "version": "3.11.7"
  }
 },
 "nbformat": 4,
 "nbformat_minor": 2
}
